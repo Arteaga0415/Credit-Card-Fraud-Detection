{
 "cells": [
  {
   "cell_type": "markdown",
   "metadata": {},
   "source": [
    "Taller Final Gradient Boosting "
   ]
  },
  {
   "cell_type": "code",
   "execution_count": null,
   "metadata": {},
   "outputs": [],
   "source": [
    "# Importing necessary libraries\n",
    "import pandas as pd\n",
    "import numpy as np\n",
    "from sklearn.ensemble import GradientBoostingClassifier\n",
    "from sklearn.model_selection import train_test_split, cross_val_score, GridSearchCV\n",
    "from sklearn.metrics import accuracy_score, precision_score, recall_score, f1_score, roc_auc_score, confusion_matrix, classification_report\n",
    "from sklearn.preprocessing import StandardScaler\n",
    "import matplotlib.pyplot as plt\n",
    "import seaborn as sns\n",
    "import time\n",
    "import shap  # for model interpretability\n",
    "import os\n",
    "\n",
    "# Check the current working directory to confirm the dataset's presence\n",
    "print(\"Current Working Directory: \", os.getcwd())\n",
    "\n",
    "# Load and display the first few rows of the dataset\n",
    "file_path = 'creditcard_2023.csv'  # assuming the file is in the current working directory\n",
    "data = pd.read_csv(file_path)\n",
    "print(data.head())\n",
    "\n",
    "# Check for duplicates\n",
    "print(\"\\nNumber of duplicate rows:\", data.duplicated().sum())\n",
    "\n",
    "# Remove duplicates\n",
    "data = data.drop_duplicates()\n",
    "\n",
    "# Check the shape of the data after removing duplicates\n",
    "print(\"\\nData shape after removing duplicates:\", data.shape)\n",
    "\n",
    "# Check for any missing values in the dataset\n",
    "print(\"\\nMissing values in each column:\\n\", data.isnull().sum())\n"
   ]
  }
 ],
 "metadata": {
  "kernelspec": {
   "display_name": "Python 3",
   "language": "python",
   "name": "python3"
  },
  "language_info": {
   "name": "python",
   "version": "3.12.0"
  }
 },
 "nbformat": 4,
 "nbformat_minor": 2
}
