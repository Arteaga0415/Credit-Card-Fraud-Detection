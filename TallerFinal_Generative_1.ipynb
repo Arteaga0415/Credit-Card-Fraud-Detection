{
 "cells": [
  {
   "cell_type": "code",
   "execution_count": 2,
   "metadata": {},
   "outputs": [],
   "source": [
    "# Importing necessary libraries\n",
    "import pandas as pd\n",
    "import matplotlib.pyplot as plt\n",
    "import numpy as np\n",
    "import seaborn as sns\n",
    "from sklearn.model_selection import train_test_split\n",
    "from sklearn.preprocessing import StandardScaler\n",
    "# Importing necessary libraries for model training and evaluation\n",
    "from sklearn.naive_bayes import GaussianNB\n",
    "from sklearn.metrics import accuracy_score, precision_score, recall_score, f1_score, roc_auc_score, confusion_matrix, ConfusionMatrixDisplay\n",
    "import numpy as np"
   ]
  },
  {
   "cell_type": "code",
   "execution_count": 3,
   "metadata": {},
   "outputs": [
    {
     "name": "stdout",
     "output_type": "stream",
     "text": [
      "<class 'pandas.core.frame.DataFrame'>\n",
      "Index: 568629 entries, 0 to 568629\n",
      "Data columns (total 30 columns):\n",
      " #   Column  Non-Null Count   Dtype  \n",
      "---  ------  --------------   -----  \n",
      " 0   V1      568629 non-null  float64\n",
      " 1   V2      568629 non-null  float64\n",
      " 2   V3      568629 non-null  float64\n",
      " 3   V4      568629 non-null  float64\n",
      " 4   V5      568629 non-null  float64\n",
      " 5   V6      568629 non-null  float64\n",
      " 6   V7      568629 non-null  float64\n",
      " 7   V8      568629 non-null  float64\n",
      " 8   V9      568629 non-null  float64\n",
      " 9   V10     568629 non-null  float64\n",
      " 10  V11     568629 non-null  float64\n",
      " 11  V12     568629 non-null  float64\n",
      " 12  V13     568629 non-null  float64\n",
      " 13  V14     568629 non-null  float64\n",
      " 14  V15     568629 non-null  float64\n",
      " 15  V16     568629 non-null  float64\n",
      " 16  V17     568629 non-null  float64\n",
      " 17  V18     568629 non-null  float64\n",
      " 18  V19     568629 non-null  float64\n",
      " 19  V20     568629 non-null  float64\n",
      " 20  V21     568629 non-null  float64\n",
      " 21  V22     568629 non-null  float64\n",
      " 22  V23     568629 non-null  float64\n",
      " 23  V24     568629 non-null  float64\n",
      " 24  V25     568629 non-null  float64\n",
      " 25  V26     568629 non-null  float64\n",
      " 26  V27     568629 non-null  float64\n",
      " 27  V28     568629 non-null  float64\n",
      " 28  Amount  568629 non-null  float64\n",
      " 29  Class   568629 non-null  int64  \n",
      "dtypes: float64(29), int64(1)\n",
      "memory usage: 134.5 MB\n",
      "None\n"
     ]
    }
   ],
   "source": [
    "# Load the data\n",
    "file_path = 'creditcard_2023.csv'\n",
    "data = pd.read_csv(file_path)\n",
    "\n",
    "# Drop the 'id' column\n",
    "data = data.drop(columns=['id'])\n",
    "\n",
    "# Remove duplicate rows\n",
    "data = data.drop_duplicates()\n",
    "\n",
    "# Standardize the 'Amount' column\n",
    "scaler = StandardScaler()\n",
    "data['Amount'] = scaler.fit_transform(data[['Amount']])\n",
    "\n",
    "# Display basic info of the preprocessed data\n",
    "print(data.info())\n"
   ]
  },
  {
   "cell_type": "code",
   "execution_count": 3,
   "metadata": {},
   "outputs": [
    {
     "name": "stdout",
     "output_type": "stream",
     "text": [
      "Accuracy: 0.9188400189930183\n",
      "Precision: 0.9751800642445282\n",
      "Recall: 0.8595571812953942\n",
      "F1-Score: 0.9137254168847678\n",
      "ROC AUC: 0.9747276963674155\n",
      "Confusion Matrix: \n",
      "[[55619  1244]\n",
      " [ 7986 48877]]\n",
      "Confusion Matrix: \n",
      "[[55619  1244]\n",
      " [ 7986 48877]]\n"
     ]
    },
    {
     "data": {
      "image/png": "[encoded data removed]",
      "text/plain": [
       "<Figure size 640x480 with 2 Axes>"
      ]
     },
     "metadata": {},
     "output_type": "display_data"
    }
   ],
   "source": [
    "# Split the data into features and target\n",
    "x_data = data.drop(columns=['Class'])\n",
    "y_data = data['Class']\n",
    "\n",
    "# Split the dataset into training and test sets\n",
    "X_train, X_test, y_train, y_test = train_test_split(x_data, y_data, test_size=0.2, random_state=42, stratify=y)\n",
    "\n",
    "# Initialize the Gaussian Naive Bayes model\n",
    "gnb = GaussianNB()\n",
    "\n",
    "# Train the model\n",
    "gnb.fit(X_train, y_train)\n",
    "\n",
    "# Predictions\n",
    "y_pred = gnb.predict(X_test)\n",
    "y_pred_proba = gnb.predict_proba(X_test)[:, 1]  # probabilities for the positive outcome is kept\n",
    "\n",
    "# Performance metrics\n",
    "accuracy = accuracy_score(y_test, y_pred)\n",
    "precision = precision_score(y_test, y_pred)\n",
    "recall = recall_score(y_test, y_pred)\n",
    "f1 = f1_score(y_test, y_pred)\n",
    "roc_auc = roc_auc_score(y_test, y_pred_proba)\n",
    "\n",
    "# Confusion matrix\n",
    "conf_matrix = confusion_matrix(y_test, y_pred)\n",
    "\n",
    "# Print the performance metrics\n",
    "print('Accuracy: {}'.format(accuracy))\n",
    "print('Precision: {}'.format(precision))\n",
    "print('Recall: {}'.format(recall))\n",
    "print('F1-Score: {}'.format(f1))\n",
    "print('ROC AUC: {}'.format(roc_auc))\n",
    "print('Confusion Matrix: \\n{}'.format(conf_matrix))\n",
    "print(f\"Confusion Matrix: \\n{conf_matrix}\")\n",
    "disp = ConfusionMatrixDisplay(conf_matrix)\n",
    "disp.plot()\n",
    "plt.show()\n",
    "\n",
    "\n",
    "# Now, you can compare these metrics with those from your logistic regression model.\n"
   ]
  }
 ],
 "metadata": {
  "kernelspec": {
   "display_name": "Python 3",
   "language": "python",
   "name": "python3"
  },
  "language_info": {
   "codemirror_mode": {
    "name": "ipython",
    "version": 3
   },
   "file_extension": ".py",
   "mimetype": "text/x-python",
   "name": "python",
   "nbconvert_exporter": "python",
   "pygments_lexer": "ipython3",
   "version": "3.12.0"
  }
 },
 "nbformat": 4,
 "nbformat_minor": 2
}
